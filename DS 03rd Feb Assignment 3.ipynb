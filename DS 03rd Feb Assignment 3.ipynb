{
 "cells": [
  {
   "cell_type": "code",
   "execution_count": 7,
   "id": "2a43e810-e917-4673-b7f1-d0c8bb937cad",
   "metadata": {},
   "outputs": [
    {
     "name": "stdout",
     "output_type": "stream",
     "text": [
      "[1, 3, 5, 7, 9, 11, 13, 15, 17, 19, 21, 23, 25]\n"
     ]
    }
   ],
   "source": [
    "# Answer 1\n",
    "# def keyword is used to create a function\n",
    "def number():\n",
    "    odd_list=[]\n",
    "    for i in range(0,26):\n",
    "        if i%2!=0:\n",
    "            odd_list.append(i)\n",
    "    return odd_list\n",
    "print(number())            \n",
    "        "
   ]
  },
  {
   "cell_type": "code",
   "execution_count": 17,
   "id": "a53a7691-6e4d-4bd7-9da1-c85adea26f44",
   "metadata": {},
   "outputs": [],
   "source": [
    "# Answer 2\n",
    "'''*args is to pass n number of variable in a function whereas,\n",
    "**kwargs is use to pass n numbers of variable associated with a keyword'''\n",
    "def test(*args):\n",
    "    return args\n",
    "\n",
    "def test2(**kwargs):\n",
    "    return kwargs"
   ]
  },
  {
   "cell_type": "code",
   "execution_count": 18,
   "id": "66008ef2-f9c3-4a4d-9476-a079dad0f991",
   "metadata": {},
   "outputs": [
    {
     "data": {
      "text/plain": [
       "(233, 4, 4, 44)"
      ]
     },
     "execution_count": 18,
     "metadata": {},
     "output_type": "execute_result"
    }
   ],
   "source": [
    "test(233,4,4,44,)"
   ]
  },
  {
   "cell_type": "code",
   "execution_count": 21,
   "id": "27d5dd8c-f5a0-4916-8a70-31d788e2495e",
   "metadata": {},
   "outputs": [
    {
     "data": {
      "text/plain": [
       "{'a': 'Hey', 'b': 23, 'c': 44.44}"
      ]
     },
     "execution_count": 21,
     "metadata": {},
     "output_type": "execute_result"
    }
   ],
   "source": [
    "test2(a='Hey', b=23, c=44.44)"
   ]
  },
  {
   "cell_type": "code",
   "execution_count": 1,
   "id": "760f3af3-86ee-47d8-a441-086590069d7c",
   "metadata": {},
   "outputs": [
    {
     "data": {
      "text/plain": [
       "'An iterator in Python is an object that can be iterated (looped) upon. \\nAn object which returns data, one element at a time when iterated is called an iterator.'"
      ]
     },
     "execution_count": 1,
     "metadata": {},
     "output_type": "execute_result"
    }
   ],
   "source": [
    "# Answer 3\n",
    "'''An iterator in Python is an object that can be iterated (looped) upon. \n",
    "An object which returns data, one element at a time when iterated is called an iterator.'''\n"
   ]
  },
  {
   "cell_type": "code",
   "execution_count": 2,
   "id": "0fb772bc-93af-400b-9e2d-575434300329",
   "metadata": {},
   "outputs": [
    {
     "name": "stdout",
     "output_type": "stream",
     "text": [
      "0\n",
      "1\n",
      "1\n",
      "2\n",
      "3\n",
      "5\n",
      "8\n",
      "13\n",
      "21\n",
      "34\n"
     ]
    }
   ],
   "source": [
    "# Answer 4\n",
    "'''A generator function in Python is a special kind of function that allows you to generate a sequence of values over time, \n",
    "rather than computing all the values at once and returning them in a list, like a normal function does.\n",
    "A generator function is defined like a normal function, but instead of using the return statement to return a value, it uses the yield statement.\n",
    "The advantage of using a generator function is that it is memory-efficient, because it generates the values one at a time, instead of storing them all in memory at once. \n",
    "This is particularly useful when working with large sequences of data.'''\n",
    "# Example\n",
    "def fib(n):\n",
    "    a,b=0,1\n",
    "    for i in range(n):\n",
    "        yield a\n",
    "        a,b=b,a+b\n",
    "    \n",
    "for i in fib(10):\n",
    "    print(i)\n",
    "    \n",
    "    "
   ]
  },
  {
   "cell_type": "code",
   "execution_count": 34,
   "id": "b8a6dd1f-eb34-4c4b-aa07-c20a40de8179",
   "metadata": {},
   "outputs": [
    {
     "name": "stdout",
     "output_type": "stream",
     "text": [
      "2\n",
      "3\n",
      "5\n",
      "7\n",
      "11\n",
      "13\n",
      "17\n",
      "19\n",
      "23\n",
      "29\n",
      "31\n",
      "37\n",
      "41\n",
      "43\n",
      "47\n",
      "53\n",
      "59\n",
      "61\n",
      "67\n",
      "71\n"
     ]
    }
   ],
   "source": [
    "# Answer 5\n",
    "def prime_numbers():\n",
    "    yield 2\n",
    "    primes = [2]\n",
    "    number = 3\n",
    "    while number < 1000:\n",
    "        if all(number % prime != 0 for prime in primes if prime * prime <= number):\n",
    "            primes.append(number)\n",
    "            yield number\n",
    "        number += 2\n",
    "\n",
    "generator = prime_numbers()\n",
    "for i in range(20):\n",
    "    print(next(generator))\n"
   ]
  },
  {
   "cell_type": "code",
   "execution_count": 37,
   "id": "de870613-5f73-47eb-8908-0e4da34d015a",
   "metadata": {},
   "outputs": [
    {
     "name": "stdout",
     "output_type": "stream",
     "text": [
      "0\n",
      "1\n",
      "1\n",
      "2\n",
      "3\n",
      "5\n",
      "8\n",
      "13\n",
      "21\n",
      "34\n"
     ]
    }
   ],
   "source": [
    "# Answer 6\n",
    "num=int(10)\n",
    "a,b=0,1\n",
    "counter=0\n",
    "while counter<num:\n",
    "    print(a)\n",
    "    a,b=b,a+b\n",
    "    counter=counter+1"
   ]
  },
  {
   "cell_type": "code",
   "execution_count": 38,
   "id": "2bf93283-251a-4e36-acac-7c702fd5b004",
   "metadata": {},
   "outputs": [
    {
     "name": "stdout",
     "output_type": "stream",
     "text": [
      "['p', 'w', 's', 'k', 'i', 'l', 'l', 's']\n"
     ]
    }
   ],
   "source": [
    "# Answer 7\n",
    "a='pwskills'\n",
    "result=[i for i in a]\n",
    "print(result)"
   ]
  },
  {
   "cell_type": "code",
   "execution_count": null,
   "id": "960f00dc-6860-4adc-a190-e93ef29364a3",
   "metadata": {},
   "outputs": [],
   "source": [
    "# Answer 8\n",
    "def is_palindrome(number):\n",
    "    original_number = number\n",
    "    reversed_number = 0\n",
    "    while number > 0:\n",
    "        last_digit = number % 10\n",
    "        reversed_number = (reversed_number * 10) + last_digit\n",
    "        number = number // 10\n",
    "    return original_number == reversed_number\n",
    "\n",
    "number = int(input(\"Enter a number: \"))\n",
    "if is_palindrome(number):\n",
    "    print(f\"{number} is a palindrome.\")\n",
    "else:\n",
    "    print(f\"{number} is not a palindrome.\")"
   ]
  },
  {
   "cell_type": "code",
   "execution_count": 7,
   "id": "778ae3bb-0d7e-4f68-8d9d-e9877cbd0464",
   "metadata": {},
   "outputs": [
    {
     "name": "stdout",
     "output_type": "stream",
     "text": [
      "[1, 3, 5, 7, 9, 11, 13, 15, 17, 19, 21, 23, 25, 27, 29, 31, 33, 35, 37, 39, 41, 43, 45, 47, 49, 51, 53, 55, 57, 59, 61, 63, 65, 67, 69, 71, 73, 75, 77, 79, 81, 83, 85, 87, 89, 91, 93, 95, 97, 99]\n"
     ]
    }
   ],
   "source": [
    "# Answer 9\n",
    "a=[i for i in range(1,101)]\n",
    "result=[i for i in a if i%2!=0]\n",
    "print(result)"
   ]
  },
  {
   "cell_type": "code",
   "execution_count": null,
   "id": "0114109a-a964-4b07-9b43-f65bdce91bc4",
   "metadata": {},
   "outputs": [],
   "source": []
  }
 ],
 "metadata": {
  "kernelspec": {
   "display_name": "Python 3 (ipykernel)",
   "language": "python",
   "name": "python3"
  },
  "language_info": {
   "codemirror_mode": {
    "name": "ipython",
    "version": 3
   },
   "file_extension": ".py",
   "mimetype": "text/x-python",
   "name": "python",
   "nbconvert_exporter": "python",
   "pygments_lexer": "ipython3",
   "version": "3.10.8"
  }
 },
 "nbformat": 4,
 "nbformat_minor": 5
}
